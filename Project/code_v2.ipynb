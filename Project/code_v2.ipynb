{
  "cells": [
    {
      "cell_type": "markdown",
      "metadata": {},
      "source": [
        "# INSY 670: Social Media Analytics - Group Project"
      ]
    },
    {
      "cell_type": "code",
      "execution_count": null,
      "metadata": {
        "colab": {
          "base_uri": "https://localhost:8080/"
        },
        "id": "QxxIzNgsaFXH",
        "outputId": "264a8740-3dda-4a66-dd3e-d01bb9183d6a"
      },
      "outputs": [],
      "source": [
        "import logging\n",
        "import os\n",
        "\n",
        "import matplotlib.pyplot as plt\n",
        "import networkx as nx\n",
        "import numpy as np\n",
        "import pandas as pd\n",
        "from tqdm import tqdm\n",
        "import gensim\n",
        "import gensim.corpora as corpora\n",
        "import nltk\n",
        "import pyLDAvis\n",
        "import pyLDAvis.gensim\n",
        "from gensim.utils import simple_preprocess\n",
        "from nltk.corpus import stopwords\n",
        "from rich import print\n",
        "import warnings\n",
        "from utils import (\n",
        "    assign_topic,\n",
        "    get_topic_submissions,\n",
        "    create_bipartite_graph,\n",
        "    create_topic_network,\n",
        "    get_top_users,\n",
        "    get_communities,\n",
        "    calculate_centralities,\n",
        "    get_filtered_topic_graph,\n",
        "    get_largest_component,\n",
        "    get_community_dataframe,\n",
        "    plot_community_graph,\n",
        "    project_bipartite_graph,\n",
        ")\n",
        "\n",
        "# %load_ext cudf.pandas\n",
        "%load_ext rich\n",
        "%load_ext autoreload\n",
        "%autoreload 2\n",
        "\n",
        "logging.basicConfig(level=logging.INFO)\n",
        "logger = logging.getLogger(\"main\")\n",
        "\n",
        "nltk.download(\"stopwords\")\n",
        "pd.set_option(\"display.max_columns\", None)\n",
        "warnings.filterwarnings(\"ignore\")\n",
        "pyLDAvis.enable_notebook()\n",
        "tqdm.pandas()\n",
        "\n",
        "os.makedirs(\"./data\", exist_ok=True)\n",
        "os.makedirs(\"./graphs\", exist_ok=True)"
      ]
    },
    {
      "cell_type": "markdown",
      "metadata": {
        "id": "NlmoxLHcaFXK"
      },
      "source": [
        "## Load data"
      ]
    },
    {
      "cell_type": "code",
      "execution_count": null,
      "metadata": {
        "id": "dvdZDMicaFXM"
      },
      "outputs": [],
      "source": [
        "SUBREDDIT_NAME = \"FortNiteBR\"\n",
        "TIME_THRESHOLD = pd.Timestamp('2023-06-01 00:00:00')"
      ]
    },
    {
      "cell_type": "markdown",
      "metadata": {
        "id": "LLbUaWJzaFXM"
      },
      "source": [
        "### Submissions"
      ]
    },
    {
      "cell_type": "code",
      "execution_count": null,
      "metadata": {
        "colab": {
          "base_uri": "https://localhost:8080/",
          "height": 34
        },
        "id": "G2aTj6RZEKap",
        "outputId": "64b66b6c-0c5c-4151-e12f-9548fbea9019"
      },
      "outputs": [],
      "source": [
        "SUBMISSIONS_DIR = \"./data/reddit/processed/submissions/\"\n",
        "SUBMISSIONS_FILES = os.listdir(SUBMISSIONS_DIR)\n",
        "\n",
        "SUBMISSIONS_IDS = sorted([int(x.split(\"_\")[1]) for x in SUBMISSIONS_FILES])\n",
        "\n",
        "submissions = []\n",
        "\n",
        "for file_id in SUBMISSIONS_IDS[::-1]:\n",
        "    x = pd.read_csv(f\"{SUBMISSIONS_DIR}{SUBREDDIT_NAME}_{file_id}_submissions.csv\")\n",
        "    earliest_date = pd.to_datetime(x[\"created_utc\"], unit=\"s\").min()\n",
        "\n",
        "    submissions.append(x)\n",
        "\n",
        "    if earliest_date <= TIME_THRESHOLD:\n",
        "        print(f\"Threshold reached at {file_id}\")\n",
        "        break\n",
        "\n",
        "submissions = pd.concat(submissions)"
      ]
    },
    {
      "cell_type": "code",
      "execution_count": null,
      "metadata": {
        "colab": {
          "base_uri": "https://localhost:8080/",
          "height": 964
        },
        "id": "XkS2fFmmGxC2",
        "outputId": "66f7e46d-754b-4433-b2ad-95ff240eda31"
      },
      "outputs": [],
      "source": [
        "submissions"
      ]
    },
    {
      "cell_type": "markdown",
      "metadata": {
        "id": "Cf1hLS1kaFXN"
      },
      "source": [
        "### Comments"
      ]
    },
    {
      "cell_type": "code",
      "execution_count": null,
      "metadata": {
        "colab": {
          "base_uri": "https://localhost:8080/",
          "height": 34
        },
        "id": "qdKIGQyCaFXO",
        "outputId": "3db9d6e7-0a67-441e-ecb7-2d1b6e80d48f"
      },
      "outputs": [],
      "source": [
        "COMMENTS_DIR = \"./data/reddit/processed/comments/\"\n",
        "COMMENTS_FILES = os.listdir(COMMENTS_DIR)\n",
        "\n",
        "COMMENTS_IDS = sorted([int(x.split(\"_\")[1]) for x in COMMENTS_FILES])\n",
        "\n",
        "comments = []\n",
        "\n",
        "for file_id in COMMENTS_IDS[::-1]:\n",
        "  x = pd.read_csv(f'{COMMENTS_DIR}{SUBREDDIT_NAME}_{file_id}_comments.csv')\n",
        "  earliest_date = pd.to_datetime(x['created_utc'], unit='s').min()\n",
        "\n",
        "  comments.append(x)\n",
        "\n",
        "  if earliest_date <= TIME_THRESHOLD:\n",
        "    print(f\"Threshold reached at {file_id}\")\n",
        "    break\n",
        "\n",
        "comments = pd.concat(comments)"
      ]
    },
    {
      "cell_type": "code",
      "execution_count": null,
      "metadata": {
        "id": "M-KhPdOiOhBG"
      },
      "outputs": [],
      "source": [
        "submissions = submissions[~submissions[\"author\"].isin([\"[deleted]\", \"[removed]\"])]\n",
        "comments = comments[~comments[\"author\"].isin([\"[deleted]\", \"[removed]\"])]\n",
        "comments[\"submission_id\"] = comments[\"link_id\"].str.split(\"t3_\").str[1]"
      ]
    },
    {
      "cell_type": "code",
      "execution_count": null,
      "metadata": {
        "colab": {
          "base_uri": "https://localhost:8080/",
          "height": 632
        },
        "id": "LqnD7MFYaFXO",
        "outputId": "213e2729-e741-4afd-843f-fd76b6d2d933"
      },
      "outputs": [],
      "source": [
        "comments"
      ]
    },
    {
      "cell_type": "markdown",
      "metadata": {
        "id": "Oc7rwe1iaFXO"
      },
      "source": [
        "## Topic modeling"
      ]
    },
    {
      "cell_type": "code",
      "execution_count": null,
      "metadata": {
        "colab": {
          "base_uri": "https://localhost:8080/"
        },
        "id": "HxL0xNSwaFXP",
        "outputId": "1b0c5234-5743-47ae-bda1-a613afe678d2"
      },
      "outputs": [],
      "source": [
        "submissions['year'] = pd.to_datetime(submissions['created_utc'], unit='s').dt.year"
      ]
    },
    {
      "cell_type": "code",
      "execution_count": null,
      "metadata": {
        "id": "A1-yQsf7aFXP"
      },
      "outputs": [],
      "source": [
        "# Clean submission title\n",
        "stop_words = stopwords.words(\"english\")\n",
        "stop_words.extend([\"google\"])\n",
        "\n",
        "def clean_post_title(post):\n",
        "    return \" \".join(\n",
        "        [\n",
        "            word\n",
        "            for word in simple_preprocess(post)\n",
        "            if word not in stop_words and len(word) > 2\n",
        "        ]\n",
        "    )"
      ]
    },
    {
      "cell_type": "code",
      "execution_count": null,
      "metadata": {
        "colab": {
          "base_uri": "https://localhost:8080/",
          "height": 527
        },
        "id": "ZiFUSQgYaFXQ",
        "outputId": "7dbe0d17-80ff-4c99-ddcc-f1bc8f25f81f"
      },
      "outputs": [],
      "source": [
        "sample = submissions[\"title\"].sample(10, random_state=42).tolist()\n",
        "print(sample)\n",
        "\n",
        "sample_cleaned = [clean_post_title(post) for post in sample]\n",
        "print(sample_cleaned)"
      ]
    },
    {
      "cell_type": "code",
      "execution_count": null,
      "metadata": {
        "colab": {
          "base_uri": "https://localhost:8080/"
        },
        "id": "pmDcwJyTaFXQ",
        "outputId": "67961d9a-cdd9-4aad-fd11-56a0f9541653"
      },
      "outputs": [],
      "source": [
        "submissions[\"clean_title\"] = submissions[\"title\"].apply(clean_post_title)"
      ]
    },
    {
      "cell_type": "code",
      "execution_count": null,
      "metadata": {
        "colab": {
          "base_uri": "https://localhost:8080/",
          "height": 964
        },
        "id": "gzwFY9mgaFXQ",
        "outputId": "a2840923-ffd9-4d10-a2f3-7092dfda72ec"
      },
      "outputs": [],
      "source": [
        "submissions"
      ]
    },
    {
      "cell_type": "code",
      "execution_count": null,
      "metadata": {
        "id": "3vuxkAeZaFXR"
      },
      "outputs": [],
      "source": [
        "titles = submissions['clean_title'].apply(str.split)\n",
        "id2word = corpora.Dictionary(titles)"
      ]
    },
    {
      "cell_type": "code",
      "execution_count": null,
      "metadata": {
        "id": "p2Wrz95IaFXR"
      },
      "outputs": [],
      "source": [
        "corpus = [id2word.doc2bow(title) for title in titles]"
      ]
    },
    {
      "cell_type": "code",
      "execution_count": null,
      "metadata": {
        "id": "VkuI11mEaFXR"
      },
      "outputs": [],
      "source": [
        "# number of topics\n",
        "num_topics = 5\n",
        "\n",
        "# Build LDA model\n",
        "lda_model = gensim.models.LdaMulticore(\n",
        "    corpus=corpus,\n",
        "    id2word=id2word,\n",
        "    num_topics=num_topics,\n",
        "    workers=3,\n",
        "    passes=10,\n",
        "    iterations=200,\n",
        "    random_state=42\n",
        ")"
      ]
    },
    {
      "cell_type": "code",
      "execution_count": null,
      "metadata": {
        "colab": {
          "base_uri": "https://localhost:8080/",
          "height": 476
        },
        "id": "WURtrTAlaFXR",
        "outputId": "309de334-5f24-4d45-eb81-7054e304ca69"
      },
      "outputs": [],
      "source": [
        "print(lda_model.print_topics())\n",
        "doc_lda = lda_model[corpus]\n"
      ]
    },
    {
      "cell_type": "code",
      "execution_count": null,
      "metadata": {
        "colab": {
          "base_uri": "https://localhost:8080/",
          "height": 1000
        },
        "id": "_0aMkExuaFXS",
        "outputId": "6a1a752d-3f75-4bf8-bb94-a0f2a63e8117"
      },
      "outputs": [],
      "source": [
        "topic_words = lda_model.show_topics(num_topics=num_topics, num_words=10, formatted=False)\n",
        "\n",
        "print(topic_words)"
      ]
    },
    {
      "cell_type": "markdown",
      "metadata": {
        "id": "6HdYgJskaFXS"
      },
      "source": [
        "### Topic Summaries\n",
        "\n",
        "- Topic 0: Skins and Cosmetic Items\n",
        "    - Keywords: \"skin\", \"skins\", \"back\", \"concept\", \"shop\"\n",
        "    - Summary: This topic focuses on discussions around different skins, back blings, and other cosmetic items available in the Fortnite item shop. Conversations revolve around cosmetic customization options.\n",
        "\n",
        "- Topic 1: Fortnite Seasons and Map Changes  \n",
        "    - Keywords: \"season\", \"chapter\", \"map\", \"new\"\n",
        "    - Summary: This topic covers discussions related to the different seasons, chapters, and map updates in Fortnite. Indicates conversations about the evolving content and changes to the game world over time.\n",
        "\n",
        "- Topic 2: Gameplay and Game Modes\n",
        "    - Keywords: \"ranked\", \"build\", \"play\", \"mode\", \"crew\"\n",
        "    - Summary: Encompasses discussions about the core gameplay aspects of Fortnite, including building mechanics, ranked mode, and other game modes. Suggests conversations around different ways to experience the game.\n",
        "\n",
        "- Topic 3: Player Support and Account Issues\n",
        "    - Keywords: \"help\", \"account\", \"need\", \"epic\"  \n",
        "    - Summary: Relates to players seeking help or support, potentially with issues related to their Fortnite accounts or in-game problems. Indicates discussions around troubleshooting and assistance from the developer Epic Games.\n",
        "\n",
        "- Topic 4: Bugs, Glitches, and In-Game Issues\n",
        "    - Keywords: \"bug\", \"glitch\", \"quest\", \"creative\", \"emote\"\n",
        "    - Summary: Revolves around discussions of bugs, glitches, and other issues encountered within the game. Suggests conversations about reporting and addressing various in-game problems or unintended behaviors."
      ]
    },
    {
      "cell_type": "code",
      "execution_count": null,
      "metadata": {
        "id": "XvXeyP0zaFXS"
      },
      "outputs": [],
      "source": [
        "topic_names = {\n",
        "    0: \"Skins, Cosmetics, and In-Game Shop\",\n",
        "    1: \"New Seasons, Updates, and Map Changes\",\n",
        "    2: \"General Questions and Discussions\",\n",
        "    3: \"Player Support, Account Issues, and Quests\",\n",
        "    4: \"Bugs, Glitches, and Gameplay Experiences\",\n",
        "}"
      ]
    },
    {
      "cell_type": "code",
      "execution_count": null,
      "metadata": {
        "colab": {
          "base_uri": "https://localhost:8080/",
          "height": 1000
        },
        "id": "4iF_YogEaFXT",
        "outputId": "c086ac82-f3be-4303-9704-24db11596ce3"
      },
      "outputs": [],
      "source": [
        "submissions[\"topic\"] = assign_topic(lda_model, corpus, topic_names)\n",
        "\n",
        "submissions"
      ]
    },
    {
      "cell_type": "code",
      "execution_count": null,
      "metadata": {},
      "outputs": [],
      "source": [
        "submissions[\"topic\"].value_counts(normalize=True, ascending=False)"
      ]
    },
    {
      "cell_type": "markdown",
      "metadata": {
        "id": "bDVnACcDaFXU"
      },
      "source": [
        "## Network analysis"
      ]
    },
    {
      "cell_type": "code",
      "execution_count": null,
      "metadata": {
        "colab": {
          "base_uri": "https://localhost:8080/",
          "height": 34
        },
        "id": "5IHQaDXR6iPs",
        "outputId": "e689177c-e0e2-4f05-a9b6-b338d0078abd"
      },
      "outputs": [],
      "source": [
        "SELECTED_TOPIC = topic_names[0]\n",
        "print(f'Selected topic: {SELECTED_TOPIC}')"
      ]
    },
    {
      "cell_type": "code",
      "execution_count": null,
      "metadata": {},
      "outputs": [],
      "source": [
        "submissions_t, comments_t = get_topic_submissions(SELECTED_TOPIC)"
      ]
    },
    {
      "cell_type": "code",
      "execution_count": null,
      "metadata": {},
      "outputs": [],
      "source": [
        "# Convert 'created_utc' to datetime and filter submissions before and after a specific date in one step\n",
        "\n",
        "submissions_t[\"post_time\"] = pd.to_datetime(submissions_t[\"created_utc\"], unit=\"s\")\n",
        "cutoff_date = pd.Timestamp(\"2023-10-01 00:00:00\")\n",
        "submissions_t_before_3m = submissions_t[submissions_t[\"post_time\"] < cutoff_date]\n",
        "submissions_t_after_3m = submissions_t[submissions_t[\"post_time\"] > cutoff_date]\n",
        "\n",
        "# Filter comments based on the filtered submissions\n",
        "comments_t_before_3m = comments_t[\n",
        "    comments_t[\"submission_id\"].isin(submissions_t_before_3m[\"id\"])\n",
        "]\n",
        "comments_t_after_3m = comments_t[\n",
        "    comments_t[\"submission_id\"].isin(submissions_t_after_3m[\"id\"])\n",
        "]\n",
        "\n",
        "comments_t_before_3m.shape, comments_t_after_3m.shape\n"
      ]
    },
    {
      "cell_type": "code",
      "execution_count": null,
      "metadata": {
        "colab": {
          "base_uri": "https://localhost:8080/",
          "height": 1000
        },
        "id": "Nv7D-IiO4TR9",
        "outputId": "47c93b8d-82fc-4cf2-e8a0-6bd868c6c7f4"
      },
      "outputs": [],
      "source": [
        "G_filtered, filtered_node_data, B_t = get_filtered_topic_graph(\n",
        "    SELECTED_TOPIC,\n",
        "    submissions_t_after_3m,\n",
        "    comments_t_after_3m,\n",
        ")"
      ]
    },
    {
      "cell_type": "code",
      "execution_count": null,
      "metadata": {},
      "outputs": [],
      "source": [
        "G_filtered_before3m, filtered_node_data_before3m, B_t_before3m = get_filtered_topic_graph(\n",
        "    SELECTED_TOPIC,\n",
        "    submissions_t_before_3m,\n",
        "    comments_t_before_3m,\n",
        "    largest_component=False\n",
        ")"
      ]
    },
    {
      "cell_type": "markdown",
      "metadata": {},
      "source": [
        "### Community detection"
      ]
    },
    {
      "cell_type": "code",
      "execution_count": null,
      "metadata": {},
      "outputs": [],
      "source": [
        "G_filtered, communities, community_lens = get_communities(G_filtered, resolution=1.5)\n",
        "\n",
        "print(f\"Number of communities: {len(communities)}\")\n",
        "print(f\"Community size: {community_lens}\")"
      ]
    },
    {
      "cell_type": "code",
      "execution_count": null,
      "metadata": {
        "colab": {
          "base_uri": "https://localhost:8080/",
          "height": 1000
        },
        "id": "ixzXUHm46lrj",
        "outputId": "844d745a-9539-4cfb-8eb0-dd806a8223ab"
      },
      "outputs": [],
      "source": [
        "SELECTED_COMMUNITY_IDX = 14"
      ]
    },
    {
      "cell_type": "code",
      "execution_count": null,
      "metadata": {},
      "outputs": [],
      "source": [
        "fig, (ax1, ax2) = plt.subplots(1, 2, figsize=(20, 15))\n",
        "\n",
        "# Graph from before data\n",
        "G_community_before3m = plot_community_graph(\n",
        "    nx.subgraph(G_filtered_before3m, communities[SELECTED_COMMUNITY_IDX]),\n",
        "    community_lens,\n",
        "    SELECTED_COMMUNITY_IDX,\n",
        "    SELECTED_TOPIC,\n",
        "    ax=ax1,\n",
        ")\n",
        "\n",
        "# Graph from after data\n",
        "G_community = plot_community_graph(\n",
        "    nx.subgraph(G_filtered, communities[SELECTED_COMMUNITY_IDX]),\n",
        "    community_lens,\n",
        "    SELECTED_COMMUNITY_IDX,\n",
        "    SELECTED_TOPIC,\n",
        "    ax=ax2,\n",
        ")\n",
        "\n",
        "\n",
        "plt.tight_layout()\n",
        "\n",
        "plt.savefig(\n",
        "    f\"./graphs/{SELECTED_TOPIC}_community_{SELECTED_COMMUNITY_IDX}_over_time.png\",\n",
        "    dpi=300,\n",
        ")\n",
        "\n",
        "plt.show()\n"
      ]
    },
    {
      "cell_type": "code",
      "execution_count": null,
      "metadata": {
        "colab": {
          "base_uri": "https://localhost:8080/",
          "height": 424
        },
        "id": "24k_t9fh9dGz",
        "outputId": "cfc89c95-8591-4f25-a8d2-2eb9e175ede2"
      },
      "outputs": [],
      "source": [
        "G_community_df = get_community_dataframe(G_community)\n",
        "G_community_before3m_df = get_community_dataframe(G_community_before3m)"
      ]
    },
    {
      "cell_type": "markdown",
      "metadata": {},
      "source": [
        "### Posts and comments frequency"
      ]
    },
    {
      "cell_type": "code",
      "execution_count": null,
      "metadata": {},
      "outputs": [],
      "source": [
        "# Number of posts\n",
        "num_posts_t = submissions_t_after_3m.groupby(\"author\").agg(num_posts=(\"id\", \"nunique\"))\n",
        "num_posts_t_before_3m = submissions_t_before_3m.groupby(\"author\").agg(\n",
        "    num_posts=(\"id\", \"nunique\")\n",
        ")\n",
        "\n",
        "# Number of posts commented on\n",
        "num_posts_commented_on_t = comments_t_after_3m.groupby(\"author\").agg(\n",
        "    num_posts_commented_on=(\"submission_id\", \"nunique\")\n",
        ")\n",
        "num_posts_commented_on_t_before_3m = comments_t_before_3m.groupby(\"author\").agg(\n",
        "    num_posts_commented_on=(\"submission_id\", \"nunique\")\n",
        ")\n",
        "\n",
        "author_metrics_t = (\n",
        "    (\n",
        "        G_community_df.set_index(\"author\")\n",
        "        .merge(num_posts_t, left_index=True, right_index=True, how=\"left\")\n",
        "        .merge(num_posts_commented_on_t, left_index=True, right_index=True, how=\"left\")\n",
        "    )\n",
        "    .sort_values(by=\"influencer_score\", ascending=False)\n",
        "    .fillna(0)\n",
        "    .reset_index()\n",
        ")\n",
        "\n",
        "author_metrics_t_before_3m = (\n",
        "    (\n",
        "        G_community_before3m_df.set_index(\"author\")\n",
        "        .merge(num_posts_t_before_3m, left_index=True, right_index=True, how=\"left\")\n",
        "        .merge(\n",
        "            num_posts_commented_on_t_before_3m,\n",
        "            left_index=True,\n",
        "            right_index=True,\n",
        "            how=\"left\",\n",
        "        )\n",
        "    )\n",
        "    .sort_values(by=\"influencer_score\", ascending=False)\n",
        "    .fillna(0)\n",
        "    .reset_index()\n",
        ")\n",
        "\n",
        "author_metrics_overall_t = pd.concat(\n",
        "    [\n",
        "        author_metrics_t.assign(time=\"after\"),\n",
        "        author_metrics_t_before_3m.assign(time=\"before\"),\n",
        "    ],\n",
        "    axis=0\n",
        ")\n",
        "\n",
        "author_metrics_overall_t"
      ]
    },
    {
      "cell_type": "code",
      "execution_count": null,
      "metadata": {},
      "outputs": [],
      "source": [
        "author_metrics_overall_t.pivot_table(\n",
        "    index=\"author\",\n",
        "    columns=\"time\",\n",
        "    values=['num_comments', 'num_posts', 'num_posts_commented_on', 'influencer_score'],\n",
        "    aggfunc=\"mean\",\n",
        ").sort_values(by=('influencer_score', 'after'), ascending=False)"
      ]
    }
  ],
  "metadata": {
    "accelerator": "GPU",
    "colab": {
      "gpuType": "T4",
      "provenance": []
    },
    "kernelspec": {
      "display_name": "Python 3",
      "name": "python3"
    },
    "language_info": {
      "codemirror_mode": {
        "name": "ipython",
        "version": 3
      },
      "file_extension": ".py",
      "mimetype": "text/x-python",
      "name": "python",
      "nbconvert_exporter": "python",
      "pygments_lexer": "ipython3",
      "version": "3.10.11"
    }
  },
  "nbformat": 4,
  "nbformat_minor": 0
}
